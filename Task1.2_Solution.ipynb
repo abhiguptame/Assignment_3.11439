{
 "cells": [
  {
   "cell_type": "markdown",
   "metadata": {},
   "source": [
    "# Task 1:"
   ]
  },
  {
   "cell_type": "markdown",
   "metadata": {},
   "source": [
    "### 2. Implement a Python program to generate all sentences where subject is in [\"Americans\",\"Indians\"] and verb is in [\"Play\", \"watch\"] and the object is in [\"Baseball\",\"cricket\"].\n",
    "<p>Hint: Subject,Verb and Object should be declared in the program as shown below.<br/>\n",
    "subjects=[\"Americans \",\"Indians\"]<br/>\n",
    "verbs=[\"play\",\"watch\"]<br/>\n",
    "objects=[\"Baseball\",\"Cricket\"]<br/><br/>\n",
    "<strong>Output should come as below:</strong><br/>\n",
    "Americans play Baseball.<br/>\n",
    "Americans play Cricket.<br/>\n",
    "Americans watch Baseball.<br/>\n",
    "Americans watch Cricket.<br/>\n",
    "Indians play Baseball.<br/>\n",
    "Indians play Cricket.<br/>\n",
    "Indians watch Baseball.<br/>\n",
    "Indians watch Cricket.</p>"
   ]
  },
  {
   "cell_type": "code",
   "execution_count": 3,
   "metadata": {},
   "outputs": [
    {
     "name": "stdout",
     "output_type": "stream",
     "text": [
      "Americans play Baseball.\n",
      "Americans play Cricket.\n",
      "Americans watch Baseball.\n",
      "Americans watch Cricket.\n",
      "Indians play Baseball.\n",
      "Indians play Cricket.\n",
      "Indians watch Baseball.\n",
      "Indians watch Cricket.\n"
     ]
    }
   ],
   "source": [
    "'''\n",
    "This program generates all sentences where subject is in [\"Americans\",\"Indians\"] and verb is in [\"Play\", \"watch\"] and the object is in [\"Baseball\",\"cricket\"].\n",
    "'''\n",
    "subjects=[\"Americans\",\"Indians\"] #Creating list of subjects\n",
    "verbs=[\"play\",\"watch\"] #Creating list of verbs\n",
    "objects=[\"Baseball\",\"Cricket\"] #Creating list of objects \n",
    "for subject in subjects:\n",
    "    for verb in verbs:\n",
    "        for obj in objects:\n",
    "            print (subject +\" \"+ verb + \" \"+ obj + '.') #Printing the sentences"
   ]
  },
  {
   "cell_type": "code",
   "execution_count": null,
   "metadata": {},
   "outputs": [],
   "source": []
  }
 ],
 "metadata": {
  "kernelspec": {
   "display_name": "Python 3",
   "language": "python",
   "name": "python3"
  },
  "language_info": {
   "codemirror_mode": {
    "name": "ipython",
    "version": 3
   },
   "file_extension": ".py",
   "mimetype": "text/x-python",
   "name": "python",
   "nbconvert_exporter": "python",
   "pygments_lexer": "ipython3",
   "version": "3.6.4"
  }
 },
 "nbformat": 4,
 "nbformat_minor": 2
}
